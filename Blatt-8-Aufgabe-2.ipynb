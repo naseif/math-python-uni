{
 "cells": [
  {
   "cell_type": "markdown",
   "metadata": {},
   "source": [
    "Aufgabe 2: Praxisaufgabe: Exponentialverteilung (2 Bonuspunkte)\n",
    "\n",
    "Ein kleiner Flughafen verzeichnet pro Stunde im Mittel 3 Flugzeuglandungen. Wie groß ist die Wahr-\n",
    "scheinlichkeit für eine Wartezeit von weniger als 12 Minuten zwischen 2 Landungen?\n",
    "Lösen Sie die Aufgabe experimentell durch die Simulation von 50000 Wartezeiten. Modellieren Sie die\n",
    "Wartezeiten zwischen 2 Flugzeuglandungen durch eine geeignete exponentialverteilte Zufallsvariable.\n",
    "Wie groß ist die relative Häufigkeit der Wartezeiten, die kleiner als 12 Minuten sind?"
   ]
  },
  {
   "cell_type": "code",
   "execution_count": 9,
   "metadata": {},
   "outputs": [
    {
     "name": "stdout",
     "output_type": "stream",
     "text": [
      "Größe der relativen Häufigkeit der Wartezeiten, die kleiner als 12 Minuten sind: 0.45408\n",
      "Die Wahrscheinlichkeit für eine Wartezeit von weniger als 12 Minuten zwischen 2 Landungen: 0.4511883639059735\n"
     ]
    }
   ],
   "source": [
    "from scipy.stats import expon\n",
    "import numpy as np\n",
    "\n",
    "lambda_rate = 3 / 60  # Umrechnung in Landungen pro Minute\n",
    "p_weniger_als_12 = expon.cdf(12, scale=1/lambda_rate)\n",
    "\n",
    "simulation_wartezeiten = expon.rvs(scale=1/lambda_rate, size=50000)\n",
    "\n",
    "relative_haeufigkeit_wartezeiten_weniger_als_12 = np.mean(simulation_wartezeiten < 12)\n",
    "\n",
    "p_weniger_als_12, relative_haeufigkeit_wartezeiten_weniger_als_12\n",
    "\n",
    "output = f\"Größe der relativen Häufigkeit der Wartezeiten, die kleiner als 12 Minuten sind: {relative_haeufigkeit_wartezeiten_weniger_als_12}\\n\" \\\n",
    "  f\"Die Wahrscheinlichkeit für eine Wartezeit von weniger als 12 Minuten zwischen 2 Landungen: {p_weniger_als_12}\"\n",
    "  \n",
    "print(output)\n",
    "\n"
   ]
  }
 ],
 "metadata": {
  "kernelspec": {
   "display_name": "Python 3",
   "language": "python",
   "name": "python3"
  },
  "language_info": {
   "codemirror_mode": {
    "name": "ipython",
    "version": 3
   },
   "file_extension": ".py",
   "mimetype": "text/x-python",
   "name": "python",
   "nbconvert_exporter": "python",
   "pygments_lexer": "ipython3",
   "version": "3.11.5"
  }
 },
 "nbformat": 4,
 "nbformat_minor": 2
}
