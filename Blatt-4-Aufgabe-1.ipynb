{
 "cells": [
  {
   "cell_type": "markdown",
   "metadata": {},
   "source": [
    "a) Simulieren Sie das Rennen 10-, 1000- und 100000-mal, indem in jeder Runde zwei Würfel-\n",
    "ergebnisse zufällig bestimmt werden. Geben Sie die relativen Häufigkeit der Ausgänge aus.\n",
    "Wiederholen Sie dieses Experiment wenigstens 5-mal. Was beobachten Sie? "
   ]
  },
  {
   "cell_type": "code",
   "execution_count": 9,
   "metadata": {},
   "outputs": [
    {
     "name": "stdout",
     "output_type": "stream",
     "text": [
      "1. Relative Haeufigkeit: {'Spieler 1': 0.5126, 'Spieler 2': 0.4874}\n",
      "2. Relative Haeufigkeit: {'Spieler 1': 0.5029, 'Spieler 2': 0.4971}\n",
      "3. Relative Haeufigkeit: {'Spieler 1': 0.5132, 'Spieler 2': 0.4868}\n",
      "4. Relative Haeufigkeit: {'Spieler 1': 0.5116, 'Spieler 2': 0.4884}\n",
      "5. Relative Haeufigkeit: {'Spieler 1': 0.5056, 'Spieler 2': 0.4944}\n",
      "6. Relative Haeufigkeit: {'Spieler 1': 0.5066, 'Spieler 2': 0.4934}\n",
      "7. Relative Haeufigkeit: {'Spieler 1': 0.5008, 'Spieler 2': 0.4992}\n",
      "8. Relative Haeufigkeit: {'Spieler 1': 0.4978, 'Spieler 2': 0.5022}\n",
      "9. Relative Haeufigkeit: {'Spieler 1': 0.5115, 'Spieler 2': 0.4885}\n",
      "10. Relative Haeufigkeit: {'Spieler 1': 0.4978, 'Spieler 2': 0.5022}\n"
     ]
    }
   ],
   "source": [
    "\"\"\"\n",
    "  Ein zweiter netter Versuch von mir in Python zu programmieren!\n",
    "\"\"\"\n",
    "\n",
    "from random import randint\n",
    "\n",
    "fuenf_schritte = [6,7,10]\n",
    "\n",
    "def werfe_wuerfel_2_mal():\n",
    "  ergebnisse = []\n",
    "  for i in range(2):\n",
    "    ergebnisse.append(randint(1,6))\n",
    "  return ergebnisse\n",
    "\n",
    "def wuerfel_spiel_2_spieler():\n",
    "  spieler = {\"Naseif\": 0, \"Bob\": 0}\n",
    "  for i in range(4):\n",
    "    wuerfel_result = werfe_wuerfel_2_mal()\n",
    "    augensumme = sum(wuerfel_result)\n",
    "    if augensumme in fuenf_schritte:\n",
    "      spieler[\"Naseif\" ] += 5\n",
    "    else :\n",
    "      spieler[\"Bob\"] += 4\n",
    "\n",
    "  return spieler\n",
    "\n",
    "def spielernr_des_gewinners(ergebnis_des_spiels):\n",
    "  if (ergebnis_des_spiels[\"Naseif\"] > ergebnis_des_spiels[\"Bob\"]):\n",
    "    return 1\n",
    "  return 2\n",
    "\n",
    "def simuliere_das_rennen(x):\n",
    "  \"\"\"\n",
    "    Ermittelt ein Array mit den Gewinnern der Spiele\n",
    "    [1, 1, 1, 2, 2, 2, 1 ...] etwa.\n",
    "  \"\"\"\n",
    "  ergebnis = []\n",
    "  for i in range(x):\n",
    "    spielergebnis = wuerfel_spiel_2_spieler()\n",
    "    gewinner = spielernr_des_gewinners(spielergebnis)\n",
    "    ergebnis.append(gewinner)\n",
    "  return ergebnis\n",
    "\n",
    "def relative_haeufigkeit_ausrechnen(simulationsergebnis):\n",
    "  gesamtzahl_der_laeufe = len(simulationsergebnis)\n",
    "  \n",
    "  gewinne_spieler_1 = [ergebnis for ergebnis in simulationsergebnis if ergebnis == 1]\n",
    "  gewinne_spieler_2 = [ergebnis for ergebnis in simulationsergebnis if ergebnis == 2]\n",
    "\n",
    "  realtive_haeufigkeit_spieler_1 = len(gewinne_spieler_1) / gesamtzahl_der_laeufe\n",
    "  realtive_haeufigkeit_spieler_2 = len(gewinne_spieler_2) / gesamtzahl_der_laeufe\n",
    "\n",
    "  return {\"Spieler 1\": realtive_haeufigkeit_spieler_1, \"Spieler 2\": realtive_haeufigkeit_spieler_2}\n",
    "\n",
    "\n",
    "\n",
    "def simuliere_das_experiment(wuerfe_im_spiel, simulations_wiederholung):\n",
    "  for i in range(simulations_wiederholung):\n",
    "    simuliere = simuliere_das_rennen(wuerfe_im_spiel)\n",
    "    relative_haeufigkeit = relative_haeufigkeit_ausrechnen(simuliere)\n",
    "    print(f\"{i+1}. Relative Haeufigkeit: {relative_haeufigkeit}\")\n",
    "\n",
    "simuliere_das_experiment(10000, 10)\n",
    "\n",
    "## Was ich beobachtet habe ist, dass je mehr Würfe in einem Spiel gemacht werden, desto höher die Wahrscheinlichkeit, dass Spieler 1 gewinnt!\n",
    "\n"
   ]
  },
  {
   "cell_type": "markdown",
   "metadata": {},
   "source": [
    "b) Lösen Sie das Problem exakt via Brute-Force als Laplace-Experiment, indem Sie alle möglichen\n",
    "Rennen simulieren und die Ergebnisse der Ausgänge bestimmen. Geben Sie die Wahrschein-\n",
    "lichkeiten der verschiedenen Ausgänge aus, indem Sie die günstigen Fälle ins Verhältnis setzen\n",
    "zu allen Fällen. Wie viele Rennen gibt es insgesamt? (Hinweis: product ist nützlich.) "
   ]
  },
  {
   "cell_type": "code",
   "execution_count": 10,
   "metadata": {},
   "outputs": [
    {
     "name": "stdout",
     "output_type": "stream",
     "text": [
      "Anzahl aller Rennen: 1679616\n",
      "Wahrscheinlichkeit, dass Spieler 1 gewinnt: 50.55155464106081%\n",
      "Wahrscheinlichkeit, dass Spieler 2 gewinnt: 49.44844535893919%\n"
     ]
    }
   ],
   "source": [
    "from itertools import product\n",
    "\n",
    "def moegliche_ergebnisse_brute_force():\n",
    "    wuerfel = [1, 2, 3, 4, 5, 6]\n",
    "    runden = 4\n",
    "    ergebnisse = product(wuerfel, repeat=2*runden)\n",
    "    return list(ergebnisse)\n",
    "\n",
    "def ermittle_spielergebnis(alle_wuerfe_im_spiel):\n",
    "  spieler = {\"Naseif\": 0, \"Bob\": 0}\n",
    "  anzahl_der_iterationen = int(len(alle_wuerfe_im_spiel) / 2)\n",
    "  for i in range(anzahl_der_iterationen):\n",
    "    index_start = i * 2\n",
    "    erster_wurf = alle_wuerfe_im_spiel[index_start]\n",
    "    zweiter_wurf = alle_wuerfe_im_spiel[index_start+1]\n",
    "\n",
    "    augensumme = erster_wurf + zweiter_wurf\n",
    "    if augensumme in  [6,7,10]:\n",
    "      spieler[\"Naseif\" ] += 5\n",
    "    else :\n",
    "      spieler[\"Bob\"] += 4\n",
    "  return spieler\n",
    "\n",
    "def spielernr_des_gewinners(ergebnis_des_spiels):\n",
    "  if (ergebnis_des_spiels[\"Naseif\"] > ergebnis_des_spiels[\"Bob\"]):\n",
    "    return 1\n",
    "  return 2\n",
    "\n",
    "wuerfe_aller_spiele = moegliche_ergebnisse_brute_force()\n",
    "\n",
    "alle_ergebnisse = len(wuerfe_aller_spiele)\n",
    "gewinne_spieler_1 = 0\n",
    "gewinne_spieler_2 = 0\n",
    "\n",
    "\n",
    "for i in range(len(wuerfe_aller_spiele)):\n",
    "  spielergebnis = ermittle_spielergebnis(wuerfe_aller_spiele[i])\n",
    "  gewinner = spielernr_des_gewinners(spielergebnis)\n",
    "  if gewinner == 1:\n",
    "    gewinne_spieler_1 += 1\n",
    "  else:\n",
    "    gewinne_spieler_2 += 1\n",
    "\n",
    "print(f\"Anzahl aller Rennen: {alle_ergebnisse}\")\n",
    "print(f\"Wahrscheinlichkeit, dass Spieler 1 gewinnt: {gewinne_spieler_1 / alle_ergebnisse * 100}%\")\n",
    "print(f\"Wahrscheinlichkeit, dass Spieler 2 gewinnt: {gewinne_spieler_2 / alle_ergebnisse * 100}%\")\n"
   ]
  }
 ],
 "metadata": {
  "kernelspec": {
   "display_name": "Python 3",
   "language": "python",
   "name": "python3"
  },
  "language_info": {
   "codemirror_mode": {
    "name": "ipython",
    "version": 3
   },
   "file_extension": ".py",
   "mimetype": "text/x-python",
   "name": "python",
   "nbconvert_exporter": "python",
   "pygments_lexer": "ipython3",
   "version": "3.11.5"
  }
 },
 "nbformat": 4,
 "nbformat_minor": 2
}
